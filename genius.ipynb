{
 "cells": [
  {
   "cell_type": "code",
   "execution_count": 182,
   "metadata": {},
   "outputs": [
    {
     "name": "stderr",
     "output_type": "stream",
     "text": [
      "[nltk_data] Downloading package stopwords to\n",
      "[nltk_data]     C:\\Users\\gppla\\AppData\\Roaming\\nltk_data...\n",
      "[nltk_data]   Package stopwords is already up-to-date!\n",
      "[nltk_data] Downloading package punkt to\n",
      "[nltk_data]     C:\\Users\\gppla\\AppData\\Roaming\\nltk_data...\n",
      "[nltk_data]   Package punkt is already up-to-date!\n"
     ]
    }
   ],
   "source": [
    "import lyricsgenius\n",
    "import nltk\n",
    "import pandas as pd\n",
    "import re\n",
    "\n",
    "from decouple import config\n",
    "from nltk.corpus import stopwords\n",
    "from nltk.tokenize import RegexpTokenizer\n",
    "\n",
    "nltk.download([\"stopwords\", \"punkt\"])\n",
    "genius = lyricsgenius.Genius(config(\"GENIUS_ACCESS_TOKEN\"), remove_section_headers=True)"
   ]
  },
  {
   "cell_type": "code",
   "execution_count": 209,
   "metadata": {},
   "outputs": [
    {
     "name": "stdout",
     "output_type": "stream",
     "text": [
      "Searching for songs by Damso...\n",
      "\n",
      "Song 1: \"Feu de bois\"\n",
      "Song 2: \"Amnésie\"\n",
      "Song 3: \"Θ. Macarena\"\n",
      "Song 4: \"Γ. Mosaïque solitaire\"\n",
      "Song 5: \"N. J Respect R\"\n",
      "Song 6: \"Ε. Signaler\"\n",
      "Song 7: \"Autotune\"\n",
      "Song 8: \"Ζ. Kietu\"\n",
      "Song 9: \"BruxellesVie\"\n",
      "Song 10: \"Α. Nwaar Is The New Black\"\n",
      "\n",
      "Reached user-specified song limit (10).\n",
      "Done. Found 10 songs.\n",
      "Wrote data/Damso.json.\n"
     ]
    }
   ],
   "source": [
    "artist = genius.search_artist(\"Damso\", max_songs=10)\n",
    "artist.save_lyrics(f\"data/{artist.name}.json\", sanitize=False)"
   ]
  },
  {
   "cell_type": "code",
   "execution_count": 230,
   "metadata": {},
   "outputs": [
    {
     "data": {
      "text/plain": [
       "alternate_names           [L'Ovni, Julien Mari, Jul Saint Jean de la Pue...\n",
       "api_path                                                     /artists/74283\n",
       "description               {'plain': 'Jul, stylisé JuL, de son nom comple...\n",
       "facebook_name                                                   julOfficial\n",
       "followers_count                                                         300\n",
       "header_image_url          https://images.genius.com/f3f6f91406d8b491a8f4...\n",
       "id                                                                    74283\n",
       "image_url                 https://images.genius.com/6f7a11d70aa5ec81f5fd...\n",
       "instagram_name                                                      juldetp\n",
       "is_meme_verified                                                      False\n",
       "is_verified                                                           False\n",
       "name                                                                    JuL\n",
       "translation_artist                                                    False\n",
       "twitter_name                                                            Jul\n",
       "url                                          https://genius.com/artists/Jul\n",
       "current_user_metadata     {'permissions': ['view_activity_stream', 'view...\n",
       "description_annotation    {'_type': 'referent', 'annotator_id': 193466, ...\n",
       "user                                                                   None\n",
       "songs                     [{'annotation_count': 19, 'api_path': '/songs/...\n",
       "dtype: object"
      ]
     },
     "execution_count": 230,
     "metadata": {},
     "output_type": "execute_result"
    }
   ],
   "source": [
    "data = pd.read_json(\"data/JuL.json\", typ=\"series\")\n",
    "data"
   ]
  },
  {
   "attachments": {},
   "cell_type": "markdown",
   "metadata": {},
   "source": [
    "Clean up lyrics"
   ]
  },
  {
   "cell_type": "code",
   "execution_count": 231,
   "metadata": {},
   "outputs": [
    {
     "name": "stdout",
     "output_type": "stream",
     "text": [
      "j'fume des grosses barres, j'm'étouffe il m'reste deux sticks, j'mets tout j'ai fait un rêve, 38 ans, j'disais au patron \"j'guette où ?\" j'sors de chez moi calé, j'entends : \"akha, descente !\" ça finit au palais, famille en pleurs, stressante trop de miss qui m'pistent autour de la piste, filles bien ou bitchs vite, y a embrouille, nique les videurs, même eux c'est des fils de p' embrouille, grosse droite, faut leur faire tomber le taser un poto s'est fait niquer, il veut revenir avec un fazer j'suis en chien malade, j'ai même pas pour faire 5-5 t'as assumé pour un braquage, ils t'en ont rajouté 25 embrouille, si si, j'suis là je sais même pas pourquoi maintenant tu veux nous niquer mais t'inquiètes, j'm'en fais pas pour moi  ce soir j'oublie tout j'cherche mon chemin, j'fais des détours ce soir j'oublie tout et quand j'repense à ce jour j'me dis qu'la vie est courte, on partira tous un jour alors j'm'en tape de vos discours, derrière le bonheur, moi je cours ce soir j'oublie tout j'cherche mon chemin, j'fais des détours ce soir j'oublie tout et quand j'repense à ce jour j'me dis qu'la vie est courte, on partira tous un jour alors j'm'en tape de vos discours, derrière le bonheur, moi je cours you might also like c'est jul qu'arrive dans l'game, j'suis venu pour tout niquer j'traînais avec des gens, j'en ai jamais profité j'évite les coups d'putes, les salopes qu'aiment les friqués sache qu'avant tout j'suis pauvre, y'a qu'mon cœur à piquer j'veux shakira comme piqué vas-y rends moi mon briquet j'roule en buvette, j'prends des virages de niqué me dis pas ci, me dis pas ça, frérot j'rappe comme dégun j'ai fini dans des embrouilles, histoire de fou ça frappait comme dans taken fais pas le youv' quand t'es dégun on t'a tout mis dans tes mains tu les as tous mis dans la merde, t'as fini dans un t1 trop d'potos qui perdent la face, qui branchent ta femme et la casse j'sors d'une nuit blanche casse pas les couilles, suffit d'un verre pour qu'je bois la tasse j'ai eu des potos, c'était des putes, sur ma mère qu'ils m'ont mis l'œil mal luné, j'me suis mis à fumer mon poto vient d'sortir, j'continue à l'assumer j'garde la tête sur les épaules, les folles me maudissent j'les esquive comme la taule, les lol, les gros diss qu-quoi qu'on dise, j'ai pas tout dit, pas tout fait j'ai rien à prouver, tu m'as donné ton amour j'ai rien à prouver  ce soir j'oublie tout j'cherche mon chemin, j'fais des détours ce soir j'oublie tout et quand j'repense à ce jour j'me dis qu'la vie est courte, on partira tous un jour alors j'm'en tape de vos discours, derrière le bonheur, moi je cours ce soir j'oublie tout j'cherche mon chemin, j'fais des détours ce soir j'oublie tout et quand j'repense à ce jour j'me dis qu'la vie est courte, on partira tous un jour alors j'm'en tape de vos discours, derrière le bonheur, moi je cours tchiki-tchikita, tchiki-tchikita, tchiki-tchikita tchiki-tchikita, tchiki-tchikita, tchiki-tchikita  elle a l'regard qui tue tchikita cheveux longs comme nikita si elle me quitte pas, j'la quitte pas tchikita, tchikita elle a l'regard qui tue tchikita cheveux longs comme nikita si elle me quitte pas, j'la quitte pas tchikita, tchikita  elle a passé toute la nuit à m'peloter elle est pas dans l'même dél' que les filles d'à côté j'la regarde dans les yeux en sirotant mon cocktail elle m'a vu dans l'vip, me prend pour un mec mortel sait pas qu'si elle s'manque avec moi j'lui nique sa gram's prends mon snap' ou mon facebook, moi j'ai pas instagram elle veut me parler, me fait la grande, la madame j'ai rien pour toi moi j'vis toujours dans l'bas d'gamme j'plonge dans ses yeux, je m'y noie j'la regarde, je m'y vois j'plonge dans ses yeux, je m'y noie j'la regarde, je m'y vois you might also like elle a l'regard qui tue tchikita cheveux longs comme nikita si elle me quitte pas, j'la quitte pas tchikita, tchikita elle a l'regard qui tue tchikita cheveux longs comme nikita si elle me quitte pas, j'la quitte pas tchikita, tchikita  mais où t'étais girl j't'imaginais comme ça quand j'étais seul des fois tu m'fais la gueule rien qu'on fait les fiers et qu'on s'engueule j'vois plus rien devant son boule magique je m'évade, je deviens très nostalgique elle s'est fait belle, ouais elle s'est fait les ongles elle a fait les plaques sur ses cheveux longo j'l'aime bien elle est gentille et simple pas besoin d'aller la chercher en lambo' elle me trouve beau même quand j'le suis pas fuis-moi j'te suis, elle j'la suis elle m'fuit pas  elle a l'regard qui tue tchikita cheveux longs comme nikita si elle me quitte pas, j'la quitte pas tchikita, tchikita elle a l'regard qui tue tchikita cheveux longs comme nikita si elle me quitte pas, j'la quitte pas tchikita, tchikita elle a l'regard qui tue tchikita cheveux longs comme nikita si elle me quitte pas, j'la quitte pas tchikita, tchikita elle a l'regard qui tue tchikita cheveux longs comme nikita si elle me quitte pas, j'la quitte pas tchikita, tchikita elle a l'regard qui tue tchikita cheveux longs comme nikita si elle me quitte pas, j'la quitte pas tchikita, tchikita elle a l'regard qui tue tchikita cheveux longs comme nikita si elle me quitte pas, j'la quitte pas tchikita, tchikita elle a l'regard qui tue tchikita cheveux longs comme nikita si elle me quitte pas, j'la quitte pas tchikita, tchikita elle a l'regard qui tue tchikita cheveux longs comme nikita si elle me quitte pas, j'la quitte pas tchikita, tchikita tchiki-tchikita, tchiki-tchikita, tchiki-tchikita tchiki-tchikita, tchiki-tchikita, tchiki-tchikita tchiki-tchikita, tchiki-tchikita, tchiki-tchikita c'est ju-ju-jul, gros big up à dj babs tchiki-tchikita, tchiki-tchikita, tchiki-tchikita tchiki-tchikita, tchiki-tchikita, tchiki-tchikita t'étais amoureux d'elle les gens t'ont dit t'es pas fait pour elle elle répond pas au tel tu pètes les plombs tu fais ton bordel talons, rimmel trop pour elle tes potes tous autour d'elle tu fais le mec qui t'en tape mais tu meurs pour elle et elle en profite oui ça va trop vite elle te fait croire qu'elle est chez sa cousine mais elle est sur la piste champagne, bordel, tout le monde la piste sur la joue ça lui fait des kiss si c'est plus fort qu'elle elle peut finir à l'hôtel ibis faut de tout pour faire un monde n’écoute pas trop les : \"on dit\" comme elle t'a fait la honte j'crois qu’elle t'a vu trop gentil t'as pas écouté tes potos ils l'ont même prise en photo fin de soirée en buvette elle s'est fait charger en moto elle s'est fait charger en moto you might also like tu regardes devant toi, tu vois pas c'qu'il se passe dans son dos elle t'fait les 400 coups, mais quoi qu'elle fasse t'es accro car tu la love tu la love c’est ta drogue tu la love tu regardes devant toi, tu vois pas c'qu'il se passe dans son dos elle te fait les 400 coups, mais quoi qu'elle fasse t'es accro car tu la love tu la love c’est ta drogue tu la love  t'étais vraiment amoureux d’elle elle t'a fait tourner la tête dans son dos tu fais l'rebelle et quand tu la vois tu baisses la tête tu peux en choisir une autre pour moi c'est pas la bonne des problèmes tu vas en avoir en tonnes pour moi, t'as rien vu encore si tu restes avec elle faudra pas que tu t'étonnes c'est juste un conseil fais comme tu le sens ici il y en a beaucoup qui ont touché le fond moi je suis sûr à 100% qu'à cette heure-ci elle t'a pris pour un con non mais faut pas déconner elles veulent toutes d'la monnaie petit bourge à faire pigeonner qui va finir par chômer les filles comme ça je les connais faut se les trimbaler la journée tu payes 400 eu' l'hôtel et tu peux même pas la fourrer  tu regardes devant toi, tu vois pas c'qu'il se passe dans son dos elle te fait les 400 coups, mais quoi qu'elle fasse t'es accro car tu la love tu la love c’est ta drogue tu la love j'suis dans ma paranoïa j'suis dans ma paranoïa paranoïaque, paranoïaque j'suis dans ma paranoïa j'suis dans ma paranoïa paranoïaque, paranoïaque  je suis dans ma paranoïa, paranoïaque laissez-moi sur ma route, j'en ai plus rien à foutre amis, ennemis, y a embrouille, ouais calomnie hey mon vier, fais pas le gros, ta drogue vient pas de colombie  je suis pas snoop dogg, au tieq' ça vend de la douce drogue who smoke ? couz fuck, ici tout s'troque dites-moi si j'ai changé, dites-moi si je suis plus le même dis pas que tu veux me test, non mais attends là, what’s your name ? je connais pas les femmes mais j'ai ce qu'elles veulent c'est quand t'as rien que tu sais ce qu'elles valent tu gamberges quand tu finis seul tu repars chez ta mère avec même pas 100 balles tu fais le zingueur, tu coupes mal un kil' tu fais le voleur, tu fais mal les fils tu fais le coinceur, tu connais mal les filles elle sont traîtres et maléfiques you might also like je suis dans ma paranoïa, paranoïaque laissez-moi sur ma route, j'en ai plus rien à foutre je suis dans ma paranoïa, paranoïaque laissez-moi sur ma route, j'en ai plus rien à foutre  tu quittes la cité, pourquoi, t'es pisté ? ou c'est tout simplement que ta femme t'a mis au piquet ça y est je suis vidé, là je t'écoute même plus je mets prada, videur moi, je mets pas de pointues embrouille, grosses pointures, parking, coups de ceinture c'est dur de se voir glisser quand le sol est tarpin dur je sais très bien qui t'es, dis-moi qui je suis dis-moi si je fais des fautes, des fois je sais même plus qui suivre  je suis dans ma paranoïa, paranoïaque laissez-moi sur ma route, j'en ai plus rien à foutre je suis dans ma paranoïa, paranoïaque laissez-moi sur ma route, j'en ai plus rien à foutre  rien à foutre, je tente ma chance, je veux rentrer dans la légende je suis dans ma paranoïa, d'après ce que me disent les gens je calcule rien, je fais ma vie, je sais que rien n'est acquis mais je donne tout pour ma ville rien à foutre, je tente ma chance, je veux rentrer dans la légende je suis dans ma paranoïa, d'après ce que me disent les gens je calcule rien, je fais ma vie, je sais que rien n'est acquis mais je donne tout pour ma ville paranoïa, paranoïaque laissez-moi sur ma route, j'en ai plus rien à foutre je suis dans ma paranoïa comme en colombie, armés jusqu'aux dents c'est l'amazonie comme en colombie, armés jusqu'aux dents c'est l'amazonie ne joue pas trop l'mia, t'façon d'nos jours peu sont fiables cherche pas j'suis grillé, pour m'changer, faudrait un miracle à quoi tu joues là ? tu crois qu'j'suis ton pote, tu m'as pris pour qui là ? tu m'as ouvert les yeux, ouh, mamma mia vous me faites chier, et j'm'en tape des gens qu'y'a je jugerai pas moi sans savoir qui t'es, quand j'me sens faible j'demande à dieu de m'guider (dieu de m'guider, dieu de m'guider), j'ai besoin d'me vider  t'es là tu m'fais l'killer, tu n'es qu'un videur y'a rien d'fantastique, moi j'rentre en asics viens donc dans my world, t'es là tu vois pas tu deuh t'es là tu m'fatigues, tu fumes du plastique  bouge ton body, bouge ton body ah, ah, ah, yeah bouge ton body, bouge ton body oh, ooo, oh, oh, ooo, oh bouge ton body, bouge ton body ah, ah, ah, yeah bouge ton body, bouge ton body oh, ooo, oh, oh, ooo, oh you might also like sur qui tu veux tirer ? pas loin toi t'iras tu marcheras, tu monteras, et plus tard on te tuera c’est la loi du milieu, là où des armes et des go il y a ça te charge comme à la corrida, ça sert à rien de faire le gorilla tu t'rappelles vous riiez, maintenant vous êtes là heureusement j'ai trié, je ne regrette pas et j'esquive toutes ces biatchs, sur pépé ils font la grillade elles mordent pas, font que crier, cherchent une suite au kyriad et puis rien que je gamberge, ça sert à rien de parler j'ai fait les choses à ma manière, tant mieux qu'ça a marché un peu d'miel j'la monte en l'air, coup d'reins elle crie mon nom deux-trois belles paroles en l'air, et elle me dit : \"t’es mon homme\"  t'es là tu m'fais l'killer, tu n'es qu'un videur y'a rien d'fantastique, moi j'rentre en asics viens donc dans my world, t'es là tu vois pas tu deuh t'es là tu m'fatigues, tu fumes du plastique  bouge ton body, bouge ton body ah, ah, ah, yeah bouge ton body, bouge ton body oh, ooo, oh, oh, ooo, oh t'es là tu m'fais l'killer, tu n'es qu'un videur y'a rien d'fantastique, moi j'rentre en asics viens donc dans my world, t'es là tu vois pas tu deuh t'es là tu m'fatigues, tu fumes du plastique  bouge ton body, bouge ton body ah, ah, ah, yeah bouge ton body, bouge ton body oh, ooo, oh, oh, ooo, oh  y'a rien d'fantastique, moi j'rentre en asics viens donc dans my world, t'es là tu vois pas tu deuh t'es là tu m'fatigues, tu fumes du plastique y'a rien d'fantastique, moi j'rentre en asics viens donc dans my world, t'es là tu vois pas tu deuh t'es là tu m'fatigues, tu fumes du plastique alors, wesh alors alors, wesh alors  viens dans mon dél' allez let's go ils parlent de moi mais je les laisse gros tiens ta gadji j'ai pas la laisse gros on voit que ses fesses gros ouais ouais ouais je baise tout jamais je dirai \"je laisse tout\" oh le con il veut me test ouh tiens des baffes dans ta tête ouh j'fais des tours dans le quartier c'est mort j'lève ma main à des traîtres j'leur dis...  wesh alors, wesh alors wesh alors, wesh alors wesh alors sors ta beuh, ta plaquette j'suis dans l'game en claquettes dans l'carré vip en survêt' viens pas me prendre la tête you might also like wesh le sang, wesh la honda mes sons tournent à la jonque' tu m'as trahi mais t'es un bon gars j'suis en fumette mais j'me trompe pas  ça fait deux ans que j'nique le game t'oses me demander comment j'm'appelle j'vous demande une chose laisez ju-ju-jul tranquille car tout va mal dans sa tête jamais à court d'idées, ouais jamais à sec j'vois la lune s'coucher quand j'cabre sur la a7 j'sais qu'les jaloux m'écoutent en cachette et au bled ça m'écoute même en cassette  wesh alors, wesh alors wesh alors, wesh alors wesh alors sors ta beuh, ta plaquette j'suis dans l'game en claquettes dans l'carré vip en survêt' viens pas me prendre la tête t'as coffré des billets, tu as sorti le r1 tu tournes en plaque plié, tu vas t'en faire un t'y es petit comme mathy mimie j'sais pas mais j'crois que ta team m'imite ce soir j'suis bleu vers les coups de minuit j'veux pas t'blesser alors j'dis qu't'es mimi j'ai pas changé gros, j'ai gardé mes valeurs toi que tu m'dis \"à t't à l'heure\" depuis qu'tu m'dois des loves on va s'revoir, j'vais te dire...  wesh alors, wesh alors wesh alors, wesh alors wesh alors sors ta beuh, ta plaquette j'suis dans l'game en claquettes dans l'carré vip en survêt' viens pas me prendre la tête wesh alors, wesh alors wesh alors, wesh alors wesh alors sors ta beuh, ta plaquette j'suis dans l'game en claquettes dans l'carré vip en survêt' viens pas me prendre la tête alors, wesh alors alors, wesh alors  ça fait deux ans que j'nique le game t'oses me demander comment j'm'appelle j'vous demande une chose laisez ju-ju-jul tranquille car tout va mal dans sa tête jamais à court d'idées, ouais jamais à sec j'vois la lune s'coucher quand j'cabre sur la a7 j'sais qu'les jaloux m'écoutent en cachette et au bled ça m'écoute même en cassette  wesh alors, wesh alors wesh alors, wesh alors wesh alors, wesh alors wesh alors sors le cross volé, cabre même si la roue est voilée pétard en billets violets, te déshabille pas, je vais te violer sors le cross volé, cabre même si la roue est voilée pétard en billets violets, te déshabille pas, je vais te violer  comme kalif je suis hardcore, je démarre au quart de tour moi c'est jul, c'est violent, comme voir un quad à carrefour bouge ta tête, c'est le son qui t'emmène ok t'as des histoires, ouais mais qui s'en mêle ? qui se ramène quand y'a plus de 100 mecs ? j'connais des vrais, j'connais beaucoup de gens qui se la mettent levage en moto, kalash dans l'auto j'suis plus serein au tieks, les flics prennent en photo toujours anti-état, ça vend la beuh, la locale vida loca, scooteur volé dans l'local t'as trahi tout le monde, fais pas le mec honnête en plus quand il y a embrouille tu cours à l'allure d'une comète que des commères, un doigt au maire ils veulent pas nous aider alors niquez vos mères le temps passe vite, les petits volent si tôt marseille c'est cramé, évasion en hélico you might also like sors le cross volé, cabre même si la roue est voilée pétard en billets violets, te déshabille pas, je vais te violer sors le cross volé, cabre même si la roue est voilée pétard en billets violets, te déshabille pas, je vais te violer  fais pas le vito, l'honneur c'est vital calibre dans la vuitton, attentat lyrical tu vois les schmits, arah vite taille tous les jours en panique comme celui qui ravitaille j'arrive au stud' sous pollen chargé trop ont changé, les mc je vais m'en charger qu'est-ce tu m'dirais si demain j'roule en lambo' ça a trop changé maintenant c'est la voiture qui te rend beau une bombe je l'embarque, en jogging ou en tarc dégaine paul&shark, les traîtres faut les charcler un frère en taule une mère en plus devant le parloir nique les matons, mets mon son dans le haut-parleur 22 geôles au palais, la juge t'a remballé faut récupérer le para à celui qui passe le balai c'est jul au pilotage les rappeurs je vais les chaler je vais les faire cabrer à en faire toucher la bavette  sors le cross volé, cabre même si la roue est voilée pétard en billets violets, te déshabille pas, je vais te violer sors le cross volé, cabre même si la roue est voilée pétard en billets violets, te déshabille pas, je vais te violer fais pas le gros, tu vois pas, tu fais la guerre seul demande à simo, on troue le corps à la perceuse peur de personne, on parle de dieu je frissonne je peux savoir qui m'a trahi mais pas quand mon heure sonne la volaille circule à pieds, les vendeurs sont mis sous trêve arrête de dire tu vas à la source on sait tous que tu sous-traites moi j'rappe sous pét', j'te fais la soufflette sors l'encodeuse, prends le cash à phuket fais gaffe si tu guettes, ils te pètent si tu gueules t'aimes pas mon rap mais ta mère danse sur mon single 1.3.5 c'est ma zone, font-vert : la jungle trouve un appart' fais pousser la purple tu vas faire un tête, pourquoi tu mets ton pare-balle ? les petits s'en foutent de l’école, ils mettent du shit dans le cartable liga one c'est la base, mets-toi devant on cartonne on vient tout piller comme le cambu au carlton haut les mains, j'arrive c'est chaud les mans j'ai vu des filles en chien péter des naiman je sais même plus si j'ai mal, tu vois l'schéma je connais ma ville par cœur, marseille c'est chez moi pas de shit, pas de blonde, ça met le chameau chez moi c'est wesh le couz qu'est-ce tu fais rhamo ? dans la malle le 16 coups, ça braque en 5 secondes mets les sacs à l'arrière et vas-y let's go fais pas le rambo, tu prends la testo' n'espère pas mourir tard si tu prends la cess' tôt y'a trop de pauvres, très peu d'riches il est fou ce monde, demande à bouriche tous bourrés, on voit en blu-ray y'a tarpin de gadjis mais c'est la même qu'on veut fourrer sors le cross volé, cabre même si la roue est voilée pétard en billets violets, te déshabille pas, je vais te violer sors le cross volé, cabre même si la roue est voilée pétard en billets violets, te déshabille pas, je vais te violer  j'vais te violer, j'vais te violer j'vais te violer, te déshabille pas, j'vais te violer j'vais te violer, j'vais te violer j'vais te violer, te déshabille pas, j'vais te violer sur cette jolie dame, oh j'ai flashé  oh j’ai flashé sur cette jolie dame j’la vois danser, je sens mon cœur qui crame je sens mon corps qui tremble en fumette de la veille j’ai le regard qui tombe ta bouche me tente, ton boule trop tanké faut qu’j’me détende alors s’teuplait détends-toi j’ai le blues de toi, j’suis perdu quand t’es pas là viens avec moi ce soir, je recoudrai tes balafres hola señora, c’est toi qui m’aura faut qu’tu saches que dans ma tête c’est la gomorra hola señora, c’est toi qui m’aura faut qu’tu saches que dans ma tête c’est la gomorra  je sais pas si j't'aime, je sais pas c'que je veux mon cœur ne sait plus mais bon c'est ça le jeu tout c'que tu penses je le vois dans tes yeux j'suis choqué, j'suis choqué, j'suis choqué je sais pas si j't'aime, je sais pas c'que je veux mon cœur ne sait plus mais bon c'est ça le jeu tout c'que tu penses je le vois dans tes yeux j'suis choqué, j'suis choqué, j'suis choqué you might also like histoire de lova, histoire de lova histoire de lova, histoire de lova histoire de lova, histoire de lova histoire de lova, histoire de lova  tu m’coupes le souffle, pour moi t’es canon j’te regarde mais toi non tu m’vois pas quand je souffre dis-moi si j’t’ai saoulé, dis-moi si j’te plais pas et oui moi j’te voulais, mais toi je ne sais pas dis-moi si j’ai coulé, dis-moi si ça l’fait pas si tu finis dans mes bras, jamais on se sépare désolé je ne voulais pas te saouler te prendre la tête comme ça oui mais je ne pouvais pas ne pas te dire et rester comme ça oh non ma baby, faut qu’tu viennes m’aider t’es la seule qui m’a fait oublier qui j’étais oh je te vois mais toi tu n’me vois pas oh je t’entends mais toi tu n’m’entends pas faisons quelqu’chose ensemble et puis on dit tant pis si on n’s’entend pas  je sais pas si j't'aime, je sais pas c'que je veux mon cœur ne sait plus mais bon c'est ça le jeu tout c'que tu penses je le vois dans tes yeux j'suis choqué, j'suis choqué, j'suis choqué je sais pas si j't'aime, je sais pas c'que je veux mon cœur ne sait plus mais bon c'est ça le jeu tout c'que tu penses je le vois dans tes yeux j'suis choqué, j'suis choqué, j'suis choqué histoire de lova, histoire de lova histoire de lova, histoire de lova histoire de lova, histoire de lova histoire de lova, histoire de lova  je sais pas si j't'aime, je sais pas c'que je veux mon cœur ne sait plus mais bon c'est ça le jeu tout c'que tu penses je le vois dans tes yeux j'suis choqué, j'suis choqué, j'suis choqué je sais pas si j't'aime, je sais pas c'que je veux mon cœur ne sait plus mais bon c'est ça le jeu tout c'que tu penses je le vois dans tes yeux j'suis choqué, j'suis choqué, j'suis choqué  histoire de lova, histoire de lova histoire de lova, histoire de lova histoire de lova, histoire de lova histoire de lova, histoire de lova viens dans my world ils sont pleins d'manies, j'voyais personne quand y'avait nada rien à foutre d'eux tant que la rue m'valide, te chauffe pas, on s'en fout d'ta madame, les contraires s'attirent ils sont pleins d'manies, j'voyais personne quand y'avait nada rien à foutre d'eux tant que la rue m'valide, te chauffe pas, on s'en fout d'ta madame, les contraires s'attirent  pas d'amis, que des frères, pas de putes, que des hommes sur la chair de ma chair, j’vous encule, j’en rigole a.m.g, en bg, j’ai la folle, j’ai l’alcool à marseille, tu commences : tu guettes, puis tu fais rentrer des tonnes en train d’cramer, j’embrasse tous mes vaillants qui sont en taule y’a la vie, y’a la mort, y’a des gens biens, y’a du shour désolé mama, dans ma tête c’est l’désordre sur du alonzo jul, le quartier caillasse les forces de l’ordre  ils sont pleins d'manies, j'voyais personne quand y'avait nada rien à foutre d'eux tant que la rue m'valide, te chauffe pas, on s'en fout d'ta madame, les contraires s'attirent  en i le honda, fais le comme d’hab' rapta dans l’appart’, on a fini comme d’hab' fais-le, fais-le, fais-le, fais-le, fais-le, fais-le fais-le, fais-le, fais-le, fais-le, fais-le, fais-le you might also like j’me la fais comme d’hab’, j’fume le mic’, survêt de foot, je fais jamais l’mac quand j’sors les petits reviennent d'la gratte, partagent les sous, l'or et coupent la plaque comme d’hab’ y’a des fous sur l’terrain, viens dans mon monde sur ma vie c’est pas tes rêves c’est pas terrible, trop font les mesrine, que des farines au guidon du r1 j’vis à fond ma vie, et j’me cache pour pleurer j’en dors plus la nuit, trop m’ont écœuré  comme d’hab’ quelqu’chose à dire, dis-le il t’reste un stick gros, fais-le devant ma team oh galope, slalome, salope tu parles trop tu vas t’prendre une calote le rr 1000, lève-le il parle mal c’fils de, crève-le, fais-le  comme d’hab' quelqu'chose à dire, dis-le il t’reste un stick gros, fais-le devant ma team oh galope, slalome, salope tu parles trop tu vas t’prendre une calote le rr 1000, lève-le il parle mal c’fils de, crève-le, fais-le  ils sont pleins d'manies, j'voyais personne quand y'avait nada rien à foutre d'eux tant que la rue m'valide, te chauffe pas, on s'en fout d'ta madame, les contraires s'attirent en i le honda, fais le comme d’hab’ rapta dans l’appart’, on a fini comme d’hab’ fais-le, fais-le, fais-le (fais-le, fais-le, fais-le), fais-le, fais-le, fais-le (fais-le, fais-le, fais-le) fais-le, fais-le, fais-le (fais-le, fais-le, fais-le), fais-le, fais-le, fais-le  ils sont pleins d'manies, j'voyais personne quand y'avait nada rien à foutre d'eux tant que la rue m'valide, te chauffe pas, on s'en fout d'ta madame, les contraires s'attirent  en i le honda, fais le comme d'hab' rapta dans l’appart', on a fini comme d'hab' fais-le, fais-le, fais-le (fais-le, fais-le, fais-le), fais-le, fais-le, fais-le (fais-le, fais-le, fais-le) fais-le, fais-le, fais-le (fais-le, fais-le, fais-le), fais-le, fais-le, fais-le regarde comment on déboule, taser collé aux boules t'as reconnu ? sous la cagoule c'est jul mets pas trop le feu, ça sent le poulet le ciel est bleu mais je sors cagoulé et j'nique ta daronne dans la foulée vous êtes tous des gays refoulés au tieks ça sent la crise quand même les flics te fouillent, te disent \"le con d'ta mère !\" mais pourquoi je suis pas sur une honda merde rien à faire et on s'enfume à l'herbe arrête de dire \"non\" tout le monde t'a reconnu putain t'étais pas comme ça quand je t'ai connu en ce moment j'vois le buzz mais j'essaie de garder ma tête tu m'parles de gros brinks, tu fais que des papet' tu m'parles de vuitton t'es encore en fila pour moi tu restes à l'ancienne comme le mot filade tu laisses les cheveux longs genre la mode italienne en bas de chez toi t'as garé le cayenne j'avais pas compris pourquoi t'avais taillé casque intégral, tu t'es dit : \"ça y est\" sois pas stressé, j'ai vu ta mère 't à l'heure t'inquiète, le paquetage je te l'envoie à l'heure y'en a qu'une que j'aime fort, c'est mama tu crois que t'es le plus fort ? mama ! et j'savais qu'j'allais t'sauver désolé mais au bitume j'suis collé on est pas des voyous, ni des toxicos gros mytho, où il est ton hélico ? tête de corsico, j'traîne avec bico j'vais taxer la france comme l'a fait nico du shit ça veut emballer, parler faites péter nous on s'en bat les buvette, fumette, un plan on arrive en survet' soufflette on est là pour ton cul pourquoi tu rouspètes putain, je me lève, je sors, il y a dégun prada, survet' : mama la dégaine j'suis tranquille, j'suis cool mais faut pas m'berner t'écoutais mes chants, mais j'peux pas t'cerner ça coule le sang faut les interner fermez vos gueules, j'arrive cerné au stud', les yeux presque fermés c'est pas mon dernier son alors le sang c'est quand ta permission tu grandis, t'oublies, tu vis, tu perds tes 'soces suffit d'un coup gros pour faire des gosses suffit de faire le fou pour se prendre un coup d'crosse j'ai pas la carrure de lil wayne ni la chaîne à rick ross au stud' à fontfont j'suis calé sur les schmits ça jette des galets ça sert à rien de parler, parler jette moi là mais je vais te châler fais tes bails mais faut pas chialer quand t'y allais pas moi j'y allais ! ça met la sienne sur l'jarret avant le braquo ça fait la boule à z comme jallet g.a.v, la honte au palais tu vas rentrer la puce au palet que tu rentres mais tu fais rien tapette fume, \"lacrizeomic\" gravé sur la plaquette je veux pas finir au chantier, taffer dans le placo j'ai entendu que les civils ils veulent ta peau j'ai branché des femmes, j'ai mangé des râteaux en boîte j'voulais rentrer avec mes sebago je suis pas trop bord de mer, caviar et pago vodka, herbe, on détourne ta gow j'ai branché des femmes, j'ai mangé des râteaux en boîte j'voulais rentrer avec mes sebago j'suis pas trop bord de mer, caviar et pago vodka, herbe, on détourne ta gow cheveux jusqu'au cul, je suis obligé de linxer je regarde ta femme, man, faut pas te vexer dents pourries, belle, sourire j'aimerais passer partout comme une petite souris you might also like j'aimerais passer partout j'aimerais passer partout j'aimerais passer partout\n"
     ]
    }
   ],
   "source": [
    "songs = pd.DataFrame(data[\"songs\"]).set_index(\"id\")\n",
    "def cleanup(lyrics):\n",
    "    lyrics = \" \".join(lyrics.split(\"\\n\")[2:]).lower()\n",
    "    match = re.match(\"(.+?)(?=[0-9]+embed)\", lyrics)\n",
    "    if match:\n",
    "        lyrics = match[1]\n",
    "    return lyrics\n",
    "songs[\"clean_lyrics\"] = songs[\"lyrics\"].map(cleanup)\n",
    "\n",
    "all_lyrics = \" \".join(songs[\"clean_lyrics\"])\n",
    "print(all_lyrics)"
   ]
  },
  {
   "attachments": {},
   "cell_type": "markdown",
   "metadata": {},
   "source": [
    "Tokenize text"
   ]
  },
  {
   "cell_type": "code",
   "execution_count": 232,
   "metadata": {},
   "outputs": [
    {
     "name": "stdout",
     "output_type": "stream",
     "text": [
      "    fais tchikita       si    comme    alors       ça     rien     wesh     tout    quand     vois     fait histoire     plus   quitte \n",
      "      99       57       46       45       43       40       35       34       33       29       28       25       25       25       24 \n"
     ]
    }
   ],
   "source": [
    "sent_tokenizer = nltk.data.load(\"tokenizers/punkt/french.pickle\")  # sentence tokenizer\n",
    "w_tokenizer = RegexpTokenizer(r\"\\w'|\\w+\")  # word tokenizer\n",
    "\n",
    "stops = set(stopwords.words(\"french\")) | {\"j'\", \"m'\", \"t'\", \"l'\", \"d'\", \"a\", \"c'\", \"s'\"}\n",
    "words = [word for sent in sent_tokenizer.tokenize(all_lyrics) for word in w_tokenizer.tokenize(sent) if not word in stops]\n",
    "fd = nltk.FreqDist(words)\n",
    "\n",
    "fd.tabulate(15)"
   ]
  }
 ],
 "metadata": {
  "kernelspec": {
   "display_name": "muzeco",
   "language": "python",
   "name": "python3"
  },
  "language_info": {
   "codemirror_mode": {
    "name": "ipython",
    "version": 3
   },
   "file_extension": ".py",
   "mimetype": "text/x-python",
   "name": "python",
   "nbconvert_exporter": "python",
   "pygments_lexer": "ipython3",
   "version": "3.12.2"
  },
  "orig_nbformat": 4
 },
 "nbformat": 4,
 "nbformat_minor": 2
}
